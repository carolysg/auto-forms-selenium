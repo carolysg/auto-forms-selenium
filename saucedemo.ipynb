{
 "cells": [
  {
   "attachments": {},
   "cell_type": "markdown",
   "metadata": {},
   "source": [
    "# Projeto 1 - Simulação de compra em site\n",
    "\n",
    "Site: https://www.saucedemo.com/"
   ]
  },
  {
   "attachments": {},
   "cell_type": "markdown",
   "metadata": {},
   "source": [
    "#### Criando o navegador"
   ]
  },
  {
   "cell_type": "code",
   "execution_count": 103,
   "metadata": {},
   "outputs": [],
   "source": [
    "from selenium import webdriver\n",
    "from selenium.webdriver.chrome.service import Service\n",
    "from webdriver_manager.chrome import ChromeDriverManager\n",
    "from selenium.webdriver.common.by import By\n",
    "from selenium.webdriver.common.keys import Keys\n",
    "from selenium.webdriver.common.alert import Alert\n",
    "import time\n",
    "import random"
   ]
  },
  {
   "cell_type": "code",
   "execution_count": 104,
   "metadata": {},
   "outputs": [],
   "source": [
    "servico = Service(ChromeDriverManager().install())\n",
    "navegador = webdriver.Chrome(service=servico)"
   ]
  },
  {
   "attachments": {},
   "cell_type": "markdown",
   "metadata": {},
   "source": [
    "#### Abrindo a página"
   ]
  },
  {
   "cell_type": "code",
   "execution_count": 105,
   "metadata": {},
   "outputs": [],
   "source": [
    "navegador.get('https://www.saucedemo.com/')"
   ]
  },
  {
   "attachments": {},
   "cell_type": "markdown",
   "metadata": {},
   "source": [
    "#### Preenchendo usuário e senha"
   ]
  },
  {
   "cell_type": "code",
   "execution_count": 106,
   "metadata": {},
   "outputs": [
    {
     "data": {
      "text/plain": [
       "['standard_user', 'locked_out_user', 'problem_user', 'performance_glitch_user']"
      ]
     },
     "execution_count": 106,
     "metadata": {},
     "output_type": "execute_result"
    }
   ],
   "source": [
    "# Coletando possíveis usuários\n",
    "texto_usernames = navegador.find_element(By.ID, 'login_credentials').text\n",
    "linhas = texto_usernames.split('\\n')\n",
    "usernames = linhas[1:]\n",
    "usernames\n"
   ]
  },
  {
   "cell_type": "code",
   "execution_count": 107,
   "metadata": {},
   "outputs": [
    {
     "data": {
      "text/plain": [
       "['secret_sauce']"
      ]
     },
     "execution_count": 107,
     "metadata": {},
     "output_type": "execute_result"
    }
   ],
   "source": [
    "# Coletando possíveis senhas \n",
    "texto_senhas = navegador.find_element(By.CLASS_NAME, 'login_password').text\n",
    "linhas2 = texto_senhas.split('\\n')\n",
    "senhas = linhas2[1:]\n",
    "senhas"
   ]
  },
  {
   "cell_type": "code",
   "execution_count": 108,
   "metadata": {},
   "outputs": [],
   "source": [
    "# Preenchendo usuário e senha\n",
    "username_aleatorio = random.choice(usernames)\n",
    "senha_aleatoria = random.choice(senhas)\n",
    "navegador.find_element(By.ID, 'user-name').send_keys(username_aleatorio)\n",
    "navegador.find_element(By.ID, 'password').send_keys(senha_aleatoria)"
   ]
  },
  {
   "cell_type": "code",
   "execution_count": 109,
   "metadata": {},
   "outputs": [],
   "source": [
    "# Clicando no botão de login\n",
    "navegador.find_element(By.ID, 'login-button').click()"
   ]
  },
  {
   "attachments": {},
   "cell_type": "markdown",
   "metadata": {},
   "source": [
    "#### Usuários:\n",
    "\n",
    "- standard_user: tudo certo, apenas continuar a compra\n",
    "- locked_out_user: usuário recusado, deve tentar outro usuário\n",
    "- problem_user: usuário com problema nos itens, deve fazer logout e tentar fazer login até utilizar o usuário padrão\n",
    "- performance_glitch_user: usuário com falha de desempenho, deve fazer logout e tentar fazer login até utilizar o usuário padrão"
   ]
  },
  {
   "cell_type": "code",
   "execution_count": 110,
   "metadata": {},
   "outputs": [],
   "source": [
    "while True:\n",
    "    if username_aleatorio == 'locked_out_user':\n",
    "        navegador.get('https://www.saucedemo.com/')\n",
    "        username_aleatorio = random.choice(usernames)\n",
    "        senha_aleatoria = random.choice(senhas)\n",
    "        navegador.find_element(By.ID, 'user-name').send_keys(username_aleatorio)\n",
    "        navegador.find_element(By.ID, 'password').send_keys(senha_aleatoria)\n",
    "        navegador.find_element(By.ID, 'login-button').click()\n",
    "    elif username_aleatorio == 'problem_user':\n",
    "        navegador.find_element(By.ID, 'react-burger-menu-btn').click()\n",
    "        time.sleep(1)\n",
    "        navegador.find_element(By.ID, 'logout_sidebar_link').click()\n",
    "        username_aleatorio = random.choice(usernames)\n",
    "        senha_aleatoria = random.choice(senhas)\n",
    "        navegador.find_element(By.ID, 'user-name').send_keys(username_aleatorio)\n",
    "        navegador.find_element(By.ID, 'password').send_keys(senha_aleatoria)\n",
    "        navegador.find_element(By.ID, 'login-button').click()\n",
    "    elif username_aleatorio == 'performance_glitch_user':\n",
    "        navegador.find_element(By.ID, 'react-burger-menu-btn').click()\n",
    "        time.sleep(1)\n",
    "        navegador.find_element(By.ID, 'logout_sidebar_link').click()\n",
    "        username_aleatorio = random.choice(usernames)\n",
    "        senha_aleatoria = random.choice(senhas)\n",
    "        navegador.find_element(By.ID, 'user-name').send_keys(username_aleatorio)\n",
    "        navegador.find_element(By.ID, 'password').send_keys(senha_aleatoria)\n",
    "        navegador.find_element(By.ID, 'login-button').click()\n",
    "    else:\n",
    "        break"
   ]
  },
  {
   "attachments": {},
   "cell_type": "markdown",
   "metadata": {},
   "source": [
    "#### Após logar com usuário padrão... Escolhendo produtos para colocar no carrinho"
   ]
  },
  {
   "cell_type": "code",
   "execution_count": 111,
   "metadata": {},
   "outputs": [],
   "source": [
    "# Escolhendo aleatoriamente os itens a serem adicionados no carrinho\n",
    "lista_itens = navegador.find_elements(By.CLASS_NAME, 'btn.btn_primary.btn_small.btn_inventory')\n",
    "num_itens = random.randint(1, len(lista_itens))\n",
    "itens = random.sample(lista_itens, num_itens)\n",
    "\n",
    "for item in itens:\n",
    "    item.click()"
   ]
  },
  {
   "attachments": {},
   "cell_type": "markdown",
   "metadata": {},
   "source": [
    "#### Entrando no carrinho"
   ]
  },
  {
   "cell_type": "code",
   "execution_count": 112,
   "metadata": {},
   "outputs": [],
   "source": [
    "navegador.find_element(By.CLASS_NAME, 'shopping_cart_link').click()"
   ]
  },
  {
   "attachments": {},
   "cell_type": "markdown",
   "metadata": {},
   "source": [
    "#### Fazendo checkout"
   ]
  },
  {
   "cell_type": "code",
   "execution_count": 113,
   "metadata": {},
   "outputs": [],
   "source": [
    "navegador.find_element(By.ID, 'checkout').click()"
   ]
  },
  {
   "attachments": {},
   "cell_type": "markdown",
   "metadata": {},
   "source": [
    "#### Preenchendo os dados"
   ]
  },
  {
   "cell_type": "code",
   "execution_count": 114,
   "metadata": {},
   "outputs": [],
   "source": [
    "navegador.find_element(By.ID, 'first-name').send_keys('primeiro nome')\n",
    "navegador.find_element(By.ID, 'last-name').send_keys('sobrenome')\n",
    "navegador.find_element(By.ID, 'postal-code').send_keys('123123123')\n",
    "navegador.find_element(By.ID, 'continue').click()"
   ]
  },
  {
   "attachments": {},
   "cell_type": "markdown",
   "metadata": {},
   "source": [
    "#### Finalizando a compra"
   ]
  },
  {
   "cell_type": "code",
   "execution_count": 115,
   "metadata": {},
   "outputs": [],
   "source": [
    "navegador.find_element(By.ID, 'finish').click()"
   ]
  },
  {
   "attachments": {},
   "cell_type": "markdown",
   "metadata": {},
   "source": [
    "#### Retornando para o menu de produtos"
   ]
  },
  {
   "cell_type": "code",
   "execution_count": 116,
   "metadata": {},
   "outputs": [],
   "source": [
    "navegador.find_element(By.ID, 'back-to-products').click()"
   ]
  }
 ],
 "metadata": {
  "kernelspec": {
   "display_name": "Python 3",
   "language": "python",
   "name": "python3"
  },
  "language_info": {
   "codemirror_mode": {
    "name": "ipython",
    "version": 3
   },
   "file_extension": ".py",
   "mimetype": "text/x-python",
   "name": "python",
   "nbconvert_exporter": "python",
   "pygments_lexer": "ipython3",
   "version": "3.11.2"
  },
  "orig_nbformat": 4
 },
 "nbformat": 4,
 "nbformat_minor": 2
}
