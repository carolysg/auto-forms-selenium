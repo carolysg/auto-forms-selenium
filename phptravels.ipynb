{
 "cells": [
  {
   "attachments": {},
   "cell_type": "markdown",
   "metadata": {},
   "source": [
    "# Projeto 2 - Simulação de reserva de viagem"
   ]
  },
  {
   "attachments": {},
   "cell_type": "markdown",
   "metadata": {},
   "source": [
    "Site: https://phptravels.net/"
   ]
  },
  {
   "attachments": {},
   "cell_type": "markdown",
   "metadata": {},
   "source": [
    "#### Criando o navegador"
   ]
  },
  {
   "cell_type": "code",
   "execution_count": 30,
   "metadata": {},
   "outputs": [],
   "source": [
    "from selenium import webdriver\n",
    "from selenium.webdriver.chrome.service import Service\n",
    "from webdriver_manager.chrome import ChromeDriverManager\n",
    "from selenium.webdriver.common.by import By\n",
    "from selenium.webdriver.common.keys import Keys\n",
    "from selenium.webdriver.common.alert import Alert\n",
    "import time\n",
    "import random\n",
    "from datetime import date, timedelta"
   ]
  },
  {
   "cell_type": "code",
   "execution_count": 19,
   "metadata": {},
   "outputs": [],
   "source": [
    "servico = Service(ChromeDriverManager().install())\n",
    "navegador = webdriver.Chrome(service=servico)"
   ]
  },
  {
   "attachments": {},
   "cell_type": "markdown",
   "metadata": {},
   "source": [
    "#### Abrindo a página"
   ]
  },
  {
   "cell_type": "code",
   "execution_count": 20,
   "metadata": {},
   "outputs": [],
   "source": [
    "navegador.get('https://phptravels.net/')"
   ]
  },
  {
   "attachments": {},
   "cell_type": "markdown",
   "metadata": {},
   "source": [
    "#### Maximizando a janela"
   ]
  },
  {
   "cell_type": "code",
   "execution_count": 21,
   "metadata": {},
   "outputs": [],
   "source": [
    "navegador.maximize_window()"
   ]
  },
  {
   "attachments": {},
   "cell_type": "markdown",
   "metadata": {},
   "source": [
    "#### Alterando o idioma do site"
   ]
  },
  {
   "cell_type": "code",
   "execution_count": 22,
   "metadata": {},
   "outputs": [],
   "source": [
    "# Alterando o idioma para português\n",
    "time.sleep(1)\n",
    "navegador.find_element(By.XPATH, '//*[@id=\"languages\"]').click()\n",
    "navegador.find_element(By.XPATH, '//*[@id=\"fadein\"]/header/div/div/div/div/div/div[2]/div/div[2]/div[1]/div/ul/li[12]/a').click()"
   ]
  },
  {
   "attachments": {},
   "cell_type": "markdown",
   "metadata": {},
   "source": [
    "#### Escolhendo o voo"
   ]
  },
  {
   "cell_type": "code",
   "execution_count": 23,
   "metadata": {},
   "outputs": [],
   "source": [
    "# Mudando para a aba de voo\n",
    "navegador.find_element(By.ID, 'flights-tab').click()"
   ]
  },
  {
   "cell_type": "code",
   "execution_count": 24,
   "metadata": {},
   "outputs": [],
   "source": [
    "# Selecionando ida e volta\n",
    "navegador.find_element(By.ID, 'round-trip').click()"
   ]
  },
  {
   "cell_type": "code",
   "execution_count": 25,
   "metadata": {},
   "outputs": [],
   "source": [
    "# Escolhendo o local de saída\n",
    "navegador.find_element(By.ID, 'autocomplete').click()\n",
    "navegador.find_element(By.ID, 'autocomplete').send_keys('congonhas')\n",
    "navegador.find_element(By.CLASS_NAME, 'autocomplete-result').click()"
   ]
  },
  {
   "cell_type": "code",
   "execution_count": 26,
   "metadata": {},
   "outputs": [],
   "source": [
    "# Escolhendo o destino\n",
    "navegador.find_element(By.ID, 'autocomplete2').click()\n",
    "navegador.find_element(By.ID, 'autocomplete2').send_keys('berlim')\n",
    "navegador.find_element(By.CLASS_NAME, 'autocomplete-result').click() # selecionando a primeira opção"
   ]
  },
  {
   "cell_type": "code",
   "execution_count": 34,
   "metadata": {},
   "outputs": [],
   "source": [
    "# Escolhendo as datas dos voos\n",
    "## Selecionando a data de hoje\n",
    "hoje = date.today()\n",
    "ano = hoje.year\n",
    "mes = hoje.month\n",
    "dia = hoje.day\n",
    "## Selecionando data de ida (1 mês à frente da data de hoje)\n",
    "data = hoje + timedelta(30)\n",
    "data = data.strftime('%d-%m-%Y')\n",
    "navegador.find_element(By.ID, 'departure').clear()\n",
    "navegador.find_element(By.ID, 'departure').send_keys(data)\n",
    "## Selecionando a data de volta (2 semanas à frente da data de ida)"
   ]
  },
  {
   "attachments": {},
   "cell_type": "markdown",
   "metadata": {},
   "source": []
  }
 ],
 "metadata": {
  "kernelspec": {
   "display_name": "Python 3",
   "language": "python",
   "name": "python3"
  },
  "language_info": {
   "codemirror_mode": {
    "name": "ipython",
    "version": 3
   },
   "file_extension": ".py",
   "mimetype": "text/x-python",
   "name": "python",
   "nbconvert_exporter": "python",
   "pygments_lexer": "ipython3",
   "version": "3.11.2"
  },
  "orig_nbformat": 4
 },
 "nbformat": 4,
 "nbformat_minor": 2
}
