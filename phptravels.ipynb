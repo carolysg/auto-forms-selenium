{
 "cells": [
  {
   "attachments": {},
   "cell_type": "markdown",
   "metadata": {},
   "source": [
    "# Projeto 2 - Simulação de reserva de viagem"
   ]
  },
  {
   "attachments": {},
   "cell_type": "markdown",
   "metadata": {},
   "source": [
    "Site: https://phptravels.net/"
   ]
  },
  {
   "attachments": {},
   "cell_type": "markdown",
   "metadata": {},
   "source": [
    "#### Criando o navegador"
   ]
  },
  {
   "cell_type": "code",
   "execution_count": 40,
   "metadata": {},
   "outputs": [],
   "source": [
    "from selenium import webdriver\n",
    "from selenium.webdriver.chrome.service import Service\n",
    "from webdriver_manager.chrome import ChromeDriverManager\n",
    "from selenium.webdriver.common.by import By\n",
    "from selenium.webdriver.common.keys import Keys\n",
    "from selenium.webdriver.common.alert import Alert\n",
    "import time\n",
    "import random\n",
    "from datetime import date, timedelta"
   ]
  },
  {
   "cell_type": "code",
   "execution_count": 41,
   "metadata": {},
   "outputs": [],
   "source": [
    "servico = Service(ChromeDriverManager().install())\n",
    "navegador = webdriver.Chrome(service=servico)"
   ]
  },
  {
   "attachments": {},
   "cell_type": "markdown",
   "metadata": {},
   "source": [
    "#### Abrindo a página"
   ]
  },
  {
   "cell_type": "code",
   "execution_count": 42,
   "metadata": {},
   "outputs": [],
   "source": [
    "navegador.get('https://phptravels.net/')"
   ]
  },
  {
   "attachments": {},
   "cell_type": "markdown",
   "metadata": {},
   "source": [
    "#### Maximizando a janela"
   ]
  },
  {
   "cell_type": "code",
   "execution_count": 43,
   "metadata": {},
   "outputs": [],
   "source": [
    "navegador.maximize_window()"
   ]
  },
  {
   "attachments": {},
   "cell_type": "markdown",
   "metadata": {},
   "source": [
    "#### Alterando o idioma do site"
   ]
  },
  {
   "cell_type": "code",
   "execution_count": 44,
   "metadata": {},
   "outputs": [],
   "source": [
    "# Alterando o idioma para português\n",
    "time.sleep(1)\n",
    "navegador.find_element(By.XPATH, '//*[@id=\"languages\"]').click()\n",
    "navegador.find_element(By.XPATH, '//*[@id=\"fadein\"]/header/div/div/div/div/div/div[2]/div/div[2]/div[1]/div/ul/li[12]/a').click()"
   ]
  },
  {
   "attachments": {},
   "cell_type": "markdown",
   "metadata": {},
   "source": [
    "#### Escolhendo o voo"
   ]
  },
  {
   "cell_type": "code",
   "execution_count": 45,
   "metadata": {},
   "outputs": [],
   "source": [
    "# Mudando para a aba de voo\n",
    "navegador.find_element(By.ID, 'flights-tab').click()"
   ]
  },
  {
   "cell_type": "code",
   "execution_count": 46,
   "metadata": {},
   "outputs": [],
   "source": [
    "# Selecionando ida e volta\n",
    "navegador.find_element(By.ID, 'round-trip').click()"
   ]
  },
  {
   "cell_type": "code",
   "execution_count": 47,
   "metadata": {},
   "outputs": [],
   "source": [
    "# Escolhendo o local de saída\n",
    "navegador.find_element(By.ID, 'autocomplete').click()\n",
    "navegador.find_element(By.ID, 'autocomplete').send_keys('congonhas')\n",
    "navegador.find_element(By.CLASS_NAME, 'autocomplete-result').click()"
   ]
  },
  {
   "cell_type": "code",
   "execution_count": 48,
   "metadata": {},
   "outputs": [],
   "source": [
    "# Escolhendo o destino\n",
    "navegador.find_element(By.ID, 'autocomplete2').click()\n",
    "navegador.find_element(By.ID, 'autocomplete2').send_keys('berlim')\n",
    "navegador.find_element(By.CLASS_NAME, 'autocomplete-result').click() # selecionando a primeira opção"
   ]
  },
  {
   "cell_type": "code",
   "execution_count": 49,
   "metadata": {},
   "outputs": [],
   "source": [
    "# Escolhendo as datas dos voos\n",
    "## Selecionando a data de hoje\n",
    "hoje = date.today()\n",
    "ano = hoje.year\n",
    "mes = hoje.month\n",
    "dia = hoje.day\n",
    "## Selecionando data de ida (1 mês à frente da data de hoje)\n",
    "data_ida = hoje + timedelta(30)\n",
    "data_ida_mod = data_ida.strftime('%d-%m-%Y')\n",
    "navegador.find_element(By.ID, 'departure').clear()\n",
    "navegador.find_element(By.ID, 'departure').send_keys(data_ida_mod)\n",
    "## Selecionando a data de volta (2 semanas à frente da data de ida)\n",
    "data_volta = data_ida + timedelta(14)\n",
    "data_volta_mod = data_volta.strftime('%d-%m-%Y')\n",
    "navegador.find_element(By.ID, 'return').clear()\n",
    "navegador.find_element(By.ID, 'return').send_keys(data_volta_mod)"
   ]
  },
  {
   "cell_type": "code",
   "execution_count": 52,
   "metadata": {},
   "outputs": [],
   "source": [
    "# Selecionando quantidade de viajantes\n",
    "navegador.find_element(By.XPATH, '//*[@id=\"onereturn\"]/div[3]/div/div/div/a').click()\n",
    "navegador.find_element(By.ID, 'fadults').clear()\n",
    "navegador.find_element(By.ID, 'fadults').click()\n",
    "navegador.find_element(By.ID, 'fadults').send_keys('2')"
   ]
  },
  {
   "cell_type": "code",
   "execution_count": 53,
   "metadata": {},
   "outputs": [],
   "source": [
    "# Buscando voos\n",
    "navegador.find_element(By.ID, 'flights-search').click()"
   ]
  },
  {
   "attachments": {},
   "cell_type": "markdown",
   "metadata": {},
   "source": [
    "#### Alterando o voo (modificando a pesquisa)"
   ]
  },
  {
   "cell_type": "code",
   "execution_count": 54,
   "metadata": {},
   "outputs": [],
   "source": [
    "# Clicando no botão de modificar pesquisa\n",
    "navegador.find_element(By.XPATH, '//*[@id=\"fadein\"]/section[1]/div/div/div/div[2]/div/button').click()"
   ]
  },
  {
   "cell_type": "code",
   "execution_count": null,
   "metadata": {},
   "outputs": [],
   "source": [
    "# Alterando aeroporto em Berlim\n"
   ]
  }
 ],
 "metadata": {
  "kernelspec": {
   "display_name": "Python 3",
   "language": "python",
   "name": "python3"
  },
  "language_info": {
   "codemirror_mode": {
    "name": "ipython",
    "version": 3
   },
   "file_extension": ".py",
   "mimetype": "text/x-python",
   "name": "python",
   "nbconvert_exporter": "python",
   "pygments_lexer": "ipython3",
   "version": "3.11.2"
  },
  "orig_nbformat": 4
 },
 "nbformat": 4,
 "nbformat_minor": 2
}
