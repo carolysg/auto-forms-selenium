{
 "cells": [
  {
   "attachments": {},
   "cell_type": "markdown",
   "metadata": {},
   "source": [
    "# Projeto 2 - Testes de diferentes elementos\n",
    "\n",
    "Site: https://demoqa.com/"
   ]
  },
  {
   "attachments": {},
   "cell_type": "markdown",
   "metadata": {},
   "source": [
    "#### Criando o navegador"
   ]
  },
  {
   "cell_type": "code",
   "execution_count": 1,
   "metadata": {},
   "outputs": [],
   "source": [
    "from selenium import webdriver\n",
    "from selenium.webdriver.chrome.service import Service\n",
    "from webdriver_manager.chrome import ChromeDriverManager\n",
    "from selenium.webdriver.common.by import By\n",
    "from selenium.webdriver.common.keys import Keys\n",
    "from selenium.webdriver.common.alert import Alert\n",
    "import time"
   ]
  },
  {
   "cell_type": "code",
   "execution_count": 2,
   "metadata": {},
   "outputs": [
    {
     "name": "stderr",
     "output_type": "stream",
     "text": [
      "[WDM] - Downloading: 100%|██████████| 6.81M/6.81M [00:01<00:00, 6.89MB/s]\n"
     ]
    }
   ],
   "source": [
    "servico = Service(ChromeDriverManager().install())\n",
    "navegador = webdriver.Chrome(service=servico)"
   ]
  },
  {
   "attachments": {},
   "cell_type": "markdown",
   "metadata": {},
   "source": [
    "#### Abrindo a página"
   ]
  },
  {
   "cell_type": "code",
   "execution_count": 3,
   "metadata": {},
   "outputs": [],
   "source": [
    "navegador.get('https://demoqa.com/')"
   ]
  },
  {
   "attachments": {},
   "cell_type": "markdown",
   "metadata": {},
   "source": [
    "#### Maximizando a tela"
   ]
  },
  {
   "cell_type": "code",
   "execution_count": 4,
   "metadata": {},
   "outputs": [],
   "source": [
    "navegador.maximize_window()"
   ]
  },
  {
   "attachments": {},
   "cell_type": "markdown",
   "metadata": {},
   "source": [
    "#### Testando os elementos"
   ]
  },
  {
   "cell_type": "code",
   "execution_count": 5,
   "metadata": {},
   "outputs": [],
   "source": [
    "# Entrando na página Elements\n",
    "navegador.find_element(By.XPATH, '//*[@id=\"app\"]/div/div/div[2]/div/div[1]/div').click()"
   ]
  },
  {
   "cell_type": "code",
   "execution_count": 6,
   "metadata": {},
   "outputs": [],
   "source": [
    "# Text Box\n",
    "navegador.find_element(By.ID, 'item-0').click()\n",
    "navegador.find_element(By.ID, 'userName').send_keys('Carolina Goshima') # Preenchendo full name\n",
    "navegador.find_element(By.ID, 'userEmail').send_keys('carol@gmail.com') # Preenchendo email\n",
    "navegador.find_element(By.ID, 'currentAddress').send_keys('endereço completo') # Preenchendo address\n",
    "navegador.find_element(By.ID, 'submit').click() # Enviando informações"
   ]
  },
  {
   "cell_type": "code",
   "execution_count": 7,
   "metadata": {},
   "outputs": [],
   "source": [
    "# Check Box\n",
    "navegador.find_element(By.ID, 'item-1').click()\n",
    "navegador.find_element(By.CLASS_NAME, 'rct-option.rct-option-expand-all').click() # Expandindo pastas\n",
    "navegador.find_element(By.XPATH, '//*[@id=\"tree-node\"]/ol/li/ol/li[2]/ol/li[2]/span/label').click() # Selecionando pasta Office\n",
    "time.sleep(1)\n",
    "navegador.find_element(By.XPATH, '//*[@id=\"tree-node\"]/ol/li/ol/li[3]/ol/li[2]/span/label').click() # Selecionando arquivo Excel FIle"
   ]
  },
  {
   "cell_type": "code",
   "execution_count": 16,
   "metadata": {},
   "outputs": [],
   "source": [
    "# Radio Button\n",
    "navegador.find_element(By.ID, 'item-2').click()\n",
    "navegador.find_element(By.XPATH, '//*[@id=\"app\"]/div/div/div[2]/div[2]/div[2]/div[3]/label').click()"
   ]
  },
  {
   "cell_type": "code",
   "execution_count": null,
   "metadata": {},
   "outputs": [],
   "source": []
  }
 ],
 "metadata": {
  "kernelspec": {
   "display_name": "Python 3",
   "language": "python",
   "name": "python3"
  },
  "language_info": {
   "codemirror_mode": {
    "name": "ipython",
    "version": 3
   },
   "file_extension": ".py",
   "mimetype": "text/x-python",
   "name": "python",
   "nbconvert_exporter": "python",
   "pygments_lexer": "ipython3",
   "version": "3.11.2"
  },
  "orig_nbformat": 4
 },
 "nbformat": 4,
 "nbformat_minor": 2
}
